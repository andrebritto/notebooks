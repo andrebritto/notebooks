{
 "cells": [
  {
   "cell_type": "code",
   "execution_count": 1,
   "metadata": {},
   "outputs": [],
   "source": [
    "# pip install beautifulsoup4\n",
    "# pip install geopy"
   ]
  },
  {
   "cell_type": "code",
   "execution_count": 2,
   "metadata": {},
   "outputs": [],
   "source": [
    "import gpxpy\n",
    "import pandas as pd\n",
    "import geopy\n",
    "from geopy.geocoders import Nominatim"
   ]
  },
  {
   "cell_type": "code",
   "execution_count": 3,
   "metadata": {
    "scrolled": true
   },
   "outputs": [
    {
     "name": "stdout",
     "output_type": "stream",
     "text": [
      "1 track(s)\n",
      "1 segment(s)\n",
      "121 point(s)\n"
     ]
    }
   ],
   "source": [
    "gpx = gpxpy.parse(open('20191005.gpx'))\n",
    "\n",
    "print(\"{} track(s)\".format(len(gpx.tracks)))\n",
    "track = gpx.tracks[0]\n",
    "\n",
    "print(\"{} segment(s)\".format(len(track.segments)))\n",
    "segment = track.segments[0]\n",
    "\n",
    "print(\"{} point(s)\".format(len(segment.points)))"
   ]
  },
  {
   "cell_type": "code",
   "execution_count": 4,
   "metadata": {
    "scrolled": false
   },
   "outputs": [
    {
     "data": {
      "text/html": [
       "<div>\n",
       "<style scoped>\n",
       "    .dataframe tbody tr th:only-of-type {\n",
       "        vertical-align: middle;\n",
       "    }\n",
       "\n",
       "    .dataframe tbody tr th {\n",
       "        vertical-align: top;\n",
       "    }\n",
       "\n",
       "    .dataframe thead th {\n",
       "        text-align: right;\n",
       "    }\n",
       "</style>\n",
       "<table border=\"1\" class=\"dataframe\">\n",
       "  <thead>\n",
       "    <tr style=\"text-align: right;\">\n",
       "      <th></th>\n",
       "      <th>Longitude</th>\n",
       "      <th>Latitude</th>\n",
       "      <th>Altitude</th>\n",
       "      <th>Time</th>\n",
       "      <th>Speed</th>\n",
       "    </tr>\n",
       "  </thead>\n",
       "  <tbody>\n",
       "    <tr>\n",
       "      <th>0</th>\n",
       "      <td>-38.462279</td>\n",
       "      <td>-12.998631</td>\n",
       "      <td>NaN</td>\n",
       "      <td>2019-10-05 10:56:34.488000+00:00</td>\n",
       "      <td>3.672122</td>\n",
       "    </tr>\n",
       "    <tr>\n",
       "      <th>1</th>\n",
       "      <td>-38.460401</td>\n",
       "      <td>-12.999387</td>\n",
       "      <td>4.0</td>\n",
       "      <td>2019-10-05 10:57:35+00:00</td>\n",
       "      <td>6.352369</td>\n",
       "    </tr>\n",
       "    <tr>\n",
       "      <th>2</th>\n",
       "      <td>-38.464495</td>\n",
       "      <td>-12.996456</td>\n",
       "      <td>4.0</td>\n",
       "      <td>2019-10-05 10:58:36+00:00</td>\n",
       "      <td>7.958234</td>\n",
       "    </tr>\n",
       "    <tr>\n",
       "      <th>3</th>\n",
       "      <td>-38.464910</td>\n",
       "      <td>-12.992707</td>\n",
       "      <td>-4.0</td>\n",
       "      <td>2019-10-05 10:59:37+00:00</td>\n",
       "      <td>5.341736</td>\n",
       "    </tr>\n",
       "    <tr>\n",
       "      <th>4</th>\n",
       "      <td>-38.463733</td>\n",
       "      <td>-12.990971</td>\n",
       "      <td>6.0</td>\n",
       "      <td>2019-10-05 11:00:38+00:00</td>\n",
       "      <td>2.453005</td>\n",
       "    </tr>\n",
       "  </tbody>\n",
       "</table>\n",
       "</div>"
      ],
      "text/plain": [
       "   Longitude   Latitude  Altitude                             Time     Speed\n",
       "0 -38.462279 -12.998631       NaN 2019-10-05 10:56:34.488000+00:00  3.672122\n",
       "1 -38.460401 -12.999387       4.0        2019-10-05 10:57:35+00:00  6.352369\n",
       "2 -38.464495 -12.996456       4.0        2019-10-05 10:58:36+00:00  7.958234\n",
       "3 -38.464910 -12.992707      -4.0        2019-10-05 10:59:37+00:00  5.341736\n",
       "4 -38.463733 -12.990971       6.0        2019-10-05 11:00:38+00:00  2.453005"
      ]
     },
     "execution_count": 4,
     "metadata": {},
     "output_type": "execute_result"
    }
   ],
   "source": [
    "data = []\n",
    "segment_length = segment.length_3d()\n",
    "for point_idx, point in enumerate(segment.points):\n",
    "    data.append([point.longitude, point.latitude,\n",
    "                 point.elevation, point.time, segment.get_speed(point_idx)])    \n",
    "\n",
    "\n",
    "columns = ['Longitude', 'Latitude', 'Altitude', 'Time', 'Speed']\n",
    "df = pd.DataFrame(data, columns=columns)\n",
    "df.head()"
   ]
  },
  {
   "cell_type": "code",
   "execution_count": 5,
   "metadata": {},
   "outputs": [],
   "source": [
    "geolocator = Nominatim(user_agent=\"britto_app\")\n",
    "geopy.geocoders.options.default_timeout = 10"
   ]
  },
  {
   "cell_type": "code",
   "execution_count": 7,
   "metadata": {},
   "outputs": [],
   "source": [
    "x = df[['Latitude','Longitude']].head(20)"
   ]
  },
  {
   "cell_type": "code",
   "execution_count": 9,
   "metadata": {},
   "outputs": [],
   "source": [
    "end = []\n",
    "for index, row in x.iterrows():\n",
    "    end.append(geolocator.reverse(row[\"Latitude\"].astype(str)+','+row[\"Longitude\"].astype(str)))"
   ]
  },
  {
   "cell_type": "code",
   "execution_count": 10,
   "metadata": {
    "scrolled": true
   },
   "outputs": [
    {
     "data": {
      "text/plain": [
       "[Location(Benevento, Pituba, Salvador, SSA, Microrregião de Salvador, Região Metropolitana de Salvador, Mesorregião do Recôncavo baiano, BA, Região Nordeste, 41830595, Brasil, (-12.9987954259959, -38.46230862626, 0.0)),\n",
       " Location(Avenida Antônio Carlos Magalhães, Pituba, Salvador, SSA, Microrregião de Salvador, Região Metropolitana de Salvador, Mesorregião do Recôncavo baiano, BA, Região Nordeste, 41815320, Brasil, (-12.9993834162078, -38.4603992939335, 0.0)),\n",
       " Location(Subway, 656, Rua Anísio Teixeira, Itaigara, Salvador, SSA, Microrregião de Salvador, Região Metropolitana de Salvador, Mesorregião do Recôncavo baiano, BA, Região Nordeste, 41825-905, Brasil, (-12.9962176, -38.46409, 0.0)),\n",
       " Location(Rua Wanderley Pinho, Itaigara, Salvador, SSA, Microrregião de Salvador, Região Metropolitana de Salvador, Mesorregião do Recôncavo baiano, BA, Região Nordeste, 41815-070, Brasil, (-12.9926976915222, -38.4649104831841, 0.0)),\n",
       " Location(Rua Osvaldo Valente, Itaigara, Salvador, SSA, Microrregião de Salvador, Região Metropolitana de Salvador, Mesorregião do Recôncavo baiano, BA, Região Nordeste, 41815-070, Brasil, (-12.9909794447166, -38.4637094169103, 0.0)),\n",
       " Location(Rua João Dórea Gomes, Itaigara, Salvador, SSA, Microrregião de Salvador, Região Metropolitana de Salvador, Mesorregião do Recôncavo baiano, BA, Região Nordeste, 41815-070, Brasil, (-12.9921438632051, -38.4633711168737, 0.0)),\n",
       " Location(Rua Wanderley Pinho, Itaigara, Salvador, SSA, Microrregião de Salvador, Região Metropolitana de Salvador, Mesorregião do Recôncavo baiano, BA, Região Nordeste, 41815-070, Brasil, (-12.9930586, -38.4642487, 0.0)),\n",
       " Location(Rua Osvaldo Valente, Itaigara, Salvador, SSA, Microrregião de Salvador, Região Metropolitana de Salvador, Mesorregião do Recôncavo baiano, BA, Região Nordeste, 41815-070, Brasil, (-12.9907388, -38.4648134, 0.0)),\n",
       " Location(Oi, Rua Wanderley Pinho, Itaigara, Salvador, SSA, Microrregião de Salvador, Região Metropolitana de Salvador, Mesorregião do Recôncavo baiano, BA, Região Nordeste, 41815-070, Brasil, (-12.9927206, -38.4656136, 0.0)),\n",
       " Location(Rua Wanderley Pinho, Itaigara, Salvador, SSA, Microrregião de Salvador, Região Metropolitana de Salvador, Mesorregião do Recôncavo baiano, BA, Região Nordeste, 41800-700, Brasil, (-12.9898468767456, -38.4666827134772, 0.0)),\n",
       " Location(Burger King, Avenida Antônio Carlos Magalhães, Itaigara, Salvador, SSA, Microrregião de Salvador, Região Metropolitana de Salvador, Mesorregião do Recôncavo baiano, BA, Região Nordeste, 41820-000, Brasil, (-12.9856687, -38.4663149, 0.0)),\n",
       " Location(Ligação Iguatemi-Paralela, Caminho das Árvores, Salvador, SSA, Microrregião de Salvador, Região Metropolitana de Salvador, Mesorregião do Recôncavo baiano, BA, Região Nordeste, 41820-710, Brasil, (-12.9785913893056, -38.462842021284, 0.0)),\n",
       " Location(André Guimarães Business Center, 909, Avenida Tancredo Neves, Caminho das Árvores, Salvador, SSA, Microrregião de Salvador, Região Metropolitana de Salvador, Mesorregião do Recôncavo baiano, BA, Região Nordeste, 41820-020, Brasil, (-12.9790371, -38.45775515, 0.0)),\n",
       " Location(Santander, 1393, Avenida Tancredo Neves, Caminho das Árvores, Salvador, SSA, Microrregião de Salvador, Região Metropolitana de Salvador, Mesorregião do Recôncavo baiano, BA, Região Nordeste, 41820-020, Brasil, (-12.98225905, -38.4542302611628, 0.0)),\n",
       " Location(Edifício Salvador Trade Center, Avenida Tancredo Neves, Caminho das Árvores, Salvador, SSA, Microrregião de Salvador, Região Metropolitana de Salvador, Mesorregião do Recôncavo baiano, BA, Região Nordeste, 41820-022, Brasil, (-12.9839615, -38.4534952970925, 0.0)),\n",
       " Location(Centro Empresarial Redenção, 2421, Avenida Tancredo Neves, STIEP, Salvador, SSA, Microrregião de Salvador, Região Metropolitana de Salvador, Mesorregião do Recôncavo baiano, BA, Região Nordeste, 41820-021, Brasil, (-12.97951245, -38.4513949763498, 0.0)),\n",
       " Location(Alameda Salvador, Caminho das Árvores, Salvador, SSA, Microrregião de Salvador, Região Metropolitana de Salvador, Mesorregião do Recôncavo baiano, BA, Região Nordeste, 41820-020, Brasil, (-12.9780499650442, -38.4573982558804, 0.0)),\n",
       " Location(Caminho das Árvores, Salvador, SSA, Microrregião de Salvador, Região Metropolitana de Salvador, Mesorregião do Recôncavo baiano, BA, Região Nordeste, 41.820-022, Brasil, (-12.9813141789527, -38.4556184588171, 0.0)),\n",
       " Location(Avenida Professor Magalhães Neto, Costa Azul, Salvador, SSA, Microrregião de Salvador, Região Metropolitana de Salvador, Mesorregião do Recôncavo baiano, BA, Região Nordeste, 41820-220, Brasil, (-12.9869009737218, -38.4509994050047, 0.0)),\n",
       " Location(Avenida Professor Magalhães Neto, Costa Azul, Salvador, SSA, Microrregião de Salvador, Região Metropolitana de Salvador, Mesorregião do Recôncavo baiano, BA, Região Nordeste, 41820-220, Brasil, (-12.9906037023234, -38.4501488095156, 0.0))]"
      ]
     },
     "execution_count": 10,
     "metadata": {},
     "output_type": "execute_result"
    }
   ],
   "source": [
    "end"
   ]
  },
  {
   "cell_type": "code",
   "execution_count": 12,
   "metadata": {},
   "outputs": [],
   "source": [
    "import requests\n",
    "from bs4 import BeautifulSoup"
   ]
  },
  {
   "cell_type": "code",
   "execution_count": 13,
   "metadata": {},
   "outputs": [],
   "source": [
    "url='https://www.gasnet.com.br/postos_gnv_lista.asp?nomestado=Bahia'\n",
    "page = requests.get(url)"
   ]
  },
  {
   "cell_type": "code",
   "execution_count": 14,
   "metadata": {},
   "outputs": [],
   "source": [
    "soup = BeautifulSoup(page.text, 'html.parser')"
   ]
  },
  {
   "cell_type": "code",
   "execution_count": 15,
   "metadata": {},
   "outputs": [],
   "source": [
    "lista_post_scrp = []\n",
    "for link in soup.find_all('a'):\n",
    "    lista_post_scrp.append(link.get('href'))"
   ]
  },
  {
   "cell_type": "code",
   "execution_count": 16,
   "metadata": {},
   "outputs": [],
   "source": [
    "reg = []\n",
    "for lst in lista_post_scrp:\n",
    "    reg.append(lst.split('&'))\n",
    "#     for l in lst.split('&'):\n",
    "#        print(l)"
   ]
  },
  {
   "cell_type": "code",
   "execution_count": 17,
   "metadata": {
    "scrolled": true
   },
   "outputs": [],
   "source": [
    "reg = reg[1:]"
   ]
  },
  {
   "cell_type": "code",
   "execution_count": 18,
   "metadata": {
    "scrolled": true
   },
   "outputs": [],
   "source": [
    "aux = []\n",
    "for rg in reg:\n",
    "    rg = rg[1:]\n",
    "    aux.append(rg)\n"
   ]
  },
  {
   "cell_type": "code",
   "execution_count": null,
   "metadata": {},
   "outputs": [],
   "source": [
    "df_postos = pd.DataFrame(aux)"
   ]
  },
  {
   "cell_type": "code",
   "execution_count": 27,
   "metadata": {},
   "outputs": [
    {
     "name": "stdout",
     "output_type": "stream",
     "text": [
      "-- linha --\n",
      "['Central Posto']\n",
      "['Central Posto', 'BR']\n",
      "['Central Posto', 'BR', 'Rodovia BR-101 Km 110.5 - s/nÂº,Alagoinhas,Bahia']\n",
      "-- linha --\n",
      "['Posto Gnc Alagoinhas']\n",
      "['Posto Gnc Alagoinhas', 'BRANCA']\n",
      "['Posto Gnc Alagoinhas', 'BRANCA', 'Av. Juracy MagalhÃ£es, s/nÂº,Alagoinhas,Bahia']\n",
      "-- linha --\n",
      "['Posto Guaraiuba']\n",
      "['Posto Guaraiuba', 'BRANCA']\n",
      "['Posto Guaraiuba', 'BRANCA', 'Via Parafuso, s/nÂº, Km 13,5,CamaÃ§ari,Bahia']\n",
      "-- linha --\n",
      "['Posto Interlagos']\n",
      "['Posto Interlagos', 'BR']\n",
      "['Posto Interlagos', 'BR', 'Rodovia BA-099, Estrada do CÃ´co, Km 21, s/nÂº,CamaÃ§ari,Bahia']\n",
      "-- linha --\n",
      "['Posto Radial B']\n",
      "['Posto Radial B', 'BR']\n",
      "['Posto Radial B', 'BR', 'Rua Manoel Alfredo MercÃªs, 783,CamaÃ§ari,Bahia']\n",
      "-- linha --\n",
      "['Posto Ondas']\n",
      "['Posto Ondas', 'BR']\n",
      "['Posto Ondas', 'BR', 'Estrada do CÃ´co, Km 22,CamaÃ§ari,Bahia']\n",
      "-- linha --\n",
      "['Posto Tvl 2']\n",
      "['Posto Tvl 2', 'BRANCA']\n",
      "['Posto Tvl 2', 'BRANCA', 'Rodovia BA-535, Km 15 (Via Parafuso),CamaÃ§ari,Bahia']\n",
      "-- linha --\n",
      "['Posto Trevo']\n",
      "['Posto Trevo', 'BR']\n",
      "['Posto Trevo', 'BR', 'Av. Perimetral, s/nÂº,CamaÃ§ari,Bahia']\n",
      "-- linha --\n",
      "['Posto Ampr']\n",
      "['Posto Ampr', 'BRANCA']\n",
      "['Posto Ampr', 'BRANCA', 'Av. Jorge Amado (Av.Leste), s/nÂº,CamaÃ§ari,Bahia']\n",
      "-- linha --\n",
      "['Posto Parafuso']\n",
      "['Posto Parafuso', 'BRANCA']\n",
      "['Posto Parafuso', 'BRANCA', 'Rua Lateral de Dentro, s/nÂº - Km 16.3 - Lotes 4 a 8,CamaÃ§ari,Bahia']\n",
      "-- linha --\n",
      "['Posto Millenium']\n",
      "['Posto Millenium', 'BRANCA']\n",
      "['Posto Millenium', 'BRANCA', 'Rodovia BA-522, Km 08 s/nÂº,Candeias,Bahia']\n",
      "-- linha --\n",
      "['Posto Rio Ventura']\n",
      "['Posto Rio Ventura', 'BRANCA']\n",
      "['Posto Rio Ventura', 'BRANCA', 'Estrada de LigaÃ§Ã£o BA-533 /BA-093 - Km 1,5,Catu,Bahia']\n",
      "-- linha --\n",
      "['Posto SÃ£o Luiz']\n",
      "['Posto SÃ£o Luiz', 'BRANCA']\n",
      "['Posto SÃ£o Luiz', 'BRANCA', 'Rodovia BR-324 Km 89 s/nÂº,ConceiÃ§Ã£o do JacuÃ\\xadpe,Bahia']\n",
      "-- linha --\n",
      "['Posto CajÃ¡']\n",
      "['Posto CajÃ¡', 'BRANCA']\n",
      "['Posto CajÃ¡', 'BRANCA', 'Av. GetÃºlio Vargas, 2.860,Cruz das Almas,Bahia']\n",
      "-- linha --\n",
      "['Posto Casa Nova (gnc)']\n",
      "['Posto Casa Nova (gnc)', 'BRANCA']\n",
      "['Posto Casa Nova (gnc)', 'BRANCA', 'Rua JosÃ© LeÃ£o, 34,Dias DÂ´Ã\\x81v,Bahia']\n",
      "-- linha --\n",
      "['Posto Shangai']\n",
      "['Posto Shangai', 'BR']\n",
      "['Posto Shangai', 'BR', 'Rodovia BR-324, Km 98, s/nÂº,Feira de Santana,Bahia']\n",
      "-- linha --\n",
      "['Posto Portal do SertÃ£o']\n",
      "['Posto Portal do SertÃ£o', 'SHELL']\n",
      "['Posto Portal do SertÃ£o', 'SHELL', 'Rodovia BR-324, Km 01 - Sentido Feira de Santana-Salvador,Feira de Santana,Bahia']\n",
      "-- linha --\n",
      "['Posto Kalilandia Ii']\n",
      "['Posto Kalilandia Ii', 'SHELL']\n",
      "['Posto Kalilandia Ii', 'SHELL', 'Av. Presidente Dutra, 1.320,Feira de Santana,Bahia']\n",
      "-- linha --\n",
      "['Posto Petromasa']\n",
      "['Posto Petromasa', 'BRANCA']\n",
      "['Posto Petromasa', 'BRANCA', 'Av. Presidente Dutra, 2.325,Feira de Santana,Bahia']\n",
      "-- linha --\n",
      "['Posto Cs Aven']\n",
      "['Posto Cs Aven', 'BR']\n",
      "['Posto Cs Aven', 'BR', 'Av. Sampaio, 788,Feira de Santana,Bahia']\n",
      "-- linha --\n",
      "['Posto Gnc Feira']\n",
      "['Posto Gnc Feira', 'BRANCA']\n",
      "['Posto Gnc Feira', 'BRANCA', 'Rodovia BR-324 - Km 102, Lote 6, Qd.E,Feira de Santana,Bahia']\n",
      "-- linha --\n",
      "['Posto Astec']\n",
      "['Posto Astec', 'SHELL']\n",
      "['Posto Astec', 'SHELL', 'Av. Eduardo Froes da Mota, 1.197,Feira de Santana,Bahia']\n",
      "-- linha --\n",
      "['Auto Posto Gasauto']\n",
      "['Auto Posto Gasauto', 'BRANCA']\n",
      "['Auto Posto Gasauto', 'BRANCA', 'Estrada Feira - SÃ£o GonÃ§alo, s/nÂº,Feira de Santana,Bahia']\n",
      "-- linha --\n",
      "['Posto Universal']\n",
      "['Posto Universal', 'BRANCA']\n",
      "['Posto Universal', 'BRANCA', 'Rua Santo Antonio, Lotes 26/27,Itabuna,Bahia']\n",
      "-- linha --\n",
      "['Posto Rio Mucuri']\n",
      "['Posto Rio Mucuri', 'BRANCA']\n",
      "['Posto Rio Mucuri', 'BRANCA', 'Rodovia BR-101 km 941,8,Mucuri,Bahia']\n",
      "-- linha --\n",
      "['Posto St']\n",
      "['Posto St', 'BR']\n",
      "['Posto St', 'BR', 'Rua EdÃ\\xadstio Ponde, 474,Salvador,Bahia']\n",
      "-- linha --\n",
      "['Posto Amaral']\n",
      "['Posto Amaral', 'BRANCA']\n",
      "['Posto Amaral', 'BRANCA', 'Av. Visconde de ItaboraÃ\\xad, 30,Salvador,Bahia']\n",
      "-- linha --\n",
      "['Posto SÃ£o Judas Tadeu']\n",
      "['Posto SÃ£o Judas Tadeu', 'BRANCA']\n",
      "['Posto SÃ£o Judas Tadeu', 'BRANCA', 'Rua Quinta dos LÃ¡zaros, 22,Salvador,Bahia']\n",
      "-- linha --\n",
      "['Posto Dois LeÃµes']\n",
      "['Posto Dois LeÃµes', 'BR']\n",
      "['Posto Dois LeÃµes', 'BR', 'Rua CÃ´nego Pereira Marinho, 31,Salvador,Bahia']\n",
      "-- linha --\n",
      "['Posto Gas On L']\n",
      "['Posto Gas On L', 'BRANCA']\n",
      "['Posto Gas On L', 'BRANCA', 'Av. Heitor Dias, 148,Salvador,Bahia']\n",
      "-- linha --\n",
      "['Posto ItaicÃª']\n",
      "['Posto ItaicÃª', 'BRANCA']\n",
      "['Posto ItaicÃª', 'BRANCA', 'Av. MÃ¡rio Leal ferreira, 252,Salvador,Bahia']\n",
      "-- linha --\n",
      "['Posto Santa']\n",
      "['Posto Santa', 'BRANCA']\n",
      "['Posto Santa', 'BRANCA', 'Av. MÃ¡rio Leal Ferreira, s/nÂº,Salvador,Bahia']\n",
      "-- linha --\n",
      "['Posto BonocÃ´']\n",
      "['Posto BonocÃ´', 'BR']\n",
      "['Posto BonocÃ´', 'BR', 'Av. MÃ¡rio Leal Ferreira, 509,Salvador,Bahia']\n",
      "-- linha --\n",
      "['Posto Mataripe I']\n",
      "['Posto Mataripe I', 'BR']\n",
      "['Posto Mataripe I', 'BR', 'Av. MÃ¡rio Leal Ferreira, 2.230,Salvador,Bahia']\n",
      "-- linha --\n",
      "['Posto Coomasal']\n",
      "['Posto Coomasal', 'BR']\n",
      "['Posto Coomasal', 'BR', 'Av. Vale do OgunjÃ¡, 1.226,Salvador,Bahia']\n",
      "-- linha --\n",
      "['Posto Iguatemi']\n",
      "['Posto Iguatemi', 'BR']\n",
      "['Posto Iguatemi', 'BR', 'Av. AntÃ´nio Carlos MagalhÃ£es, s/nÂº,Salvador,Bahia']\n",
      "-- linha --\n",
      "['Posto Mataripe V']\n",
      "['Posto Mataripe V', 'BR']\n",
      "['Posto Mataripe V', 'BR', 'Av.AntÃ´nio Carlos MagalhÃ£es, 269,Salvador,Bahia']\n",
      "-- linha --\n",
      "['Posto Tic']\n",
      "['Posto Tic', 'BRANCA']\n",
      "['Posto Tic', 'BRANCA', 'Rodovia BR 324, 1120 - Acesso Norte,Salvador,Bahia']\n",
      "-- linha --\n",
      "['Posto Jsm']\n",
      "['Posto Jsm', 'SHELL']\n",
      "['Posto Jsm', 'SHELL', 'Av. Luiz Eduardo MagalhÃ£es, s/nÂº,Salvador,Bahia']\n",
      "-- linha --\n",
      "['Posto Jaqueira']\n",
      "['Posto Jaqueira', 'SHELL']\n",
      "['Posto Jaqueira', 'SHELL', 'Rodovia BR-324, Km 4.8,Salvador,Bahia']\n",
      "-- linha --\n",
      "['Posto Trevo San Martin']\n",
      "['Posto Trevo San Martin', 'BR']\n",
      "['Posto Trevo San Martin', 'BR', 'Av. San Martin, 450,Salvador,Bahia']\n",
      "-- linha --\n",
      "['Posto OgunjÃ¡']\n",
      "['Posto OgunjÃ¡', 'BRANCA']\n",
      "['Posto OgunjÃ¡', 'BRANCA', 'Av. GraÃ§a Lessa, 362,Salvador,Bahia']\n",
      "-- linha --\n",
      "['Posto Gnc Paralela Ii']\n",
      "['Posto Gnc Paralela Ii', 'BRANCA']\n",
      "['Posto Gnc Paralela Ii', 'BRANCA', 'Av. Luis Viana Filho, 10.841,Salvador,Bahia']\n",
      "-- linha --\n",
      "['Posto Leiro']\n",
      "['Posto Leiro', 'BR']\n",
      "['Posto Leiro', 'BR', 'Av. Luis Vianna Filho, 385,Salvador,Bahia']\n",
      "-- linha --\n",
      "['Posto Sb']\n",
      "['Posto Sb', 'SHELL']\n",
      "['Posto Sb', 'SHELL', 'Av. Luiz Viana Filho, Lote 01,Salvador,Bahia']\n",
      "-- linha --\n",
      "['Posto Itapoan Alphavi']\n",
      "['Posto Itapoan Alphavi', 'BRANCA']\n",
      "['Posto Itapoan Alphavi', 'BRANCA', 'Av. Luiz Viana Filho, Km 8,Salvador,Bahia']\n",
      "-- linha --\n",
      "['Macro Posto']\n",
      "['Macro Posto', 'BRANCA']\n",
      "['Macro Posto', 'BRANCA', 'Rodovia BR-324, Km 9,Salvador,Bahia']\n",
      "-- linha --\n",
      "['Posto Porto Seco PirajÃ¡']\n",
      "['Posto Porto Seco PirajÃ¡', 'BR']\n",
      "['Posto Porto Seco PirajÃ¡', 'BR', 'Rodovia BR-324, Km 9,Salvador,Bahia']\n",
      "-- linha --\n",
      "['Posto Quatro']\n",
      "['Posto Quatro', 'BR']\n",
      "['Posto Quatro', 'BR', 'Av. Aliomar Baleeiro, 578,Salvador,Bahia']\n",
      "-- linha --\n",
      "['Posto Sodic PirajÃ¡']\n",
      "['Posto Sodic PirajÃ¡', 'SHELL']\n",
      "['Posto Sodic PirajÃ¡', 'SHELL', 'BR-324, Km 08 - Sentido Salvador - Feira de Santana,Salvador,Bahia']\n",
      "-- linha --\n",
      "['Posto Grande Aven']\n",
      "['Posto Grande Aven', 'BR']\n",
      "['Posto Grande Aven', 'BR', 'Av. OtÃ¡vio Mangabeira, 429,Salvador,Bahia']\n",
      "-- linha --\n",
      "['Posto ItajaÃ\\xad']\n",
      "['Posto ItajaÃ\\xad', 'SHELL']\n",
      "['Posto ItajaÃ\\xad', 'SHELL', 'Av. Prof. MagalhÃ£es Neto, 1338,Salvador,Bahia']\n",
      "-- linha --\n",
      "['Posto Plus Brasil']\n",
      "['Posto Plus Brasil', 'BRANCA']\n",
      "['Posto Plus Brasil', 'BRANCA', 'Av. San Martin, 161,Salvador,Bahia']\n",
      "-- linha --\n",
      "['Posto Flamma']\n",
      "['Posto Flamma', 'SHELL']\n",
      "['Posto Flamma', 'SHELL', 'Av. Heitor Dias, 636,Salvador,Bahia']\n",
      "-- linha --\n",
      "['Posto ChaminÃ©']\n",
      "['Posto ChaminÃ©', 'SHELL']\n",
      "['Posto ChaminÃ©', 'SHELL', 'Rua MarquÃªs de Monte Santo, 50,Salvador,Bahia']\n",
      "-- linha --\n",
      "['Posto Mataripe Xii']\n",
      "['Posto Mataripe Xii', 'BR']\n",
      "['Posto Mataripe Xii', 'BR', 'Av. AntÃ´nio Carlos MagalhÃ£es, s/nÂº,Salvador,Bahia']\n",
      "-- linha --\n",
      "['Posto SÃ£o Caetano']\n",
      "['Posto SÃ£o Caetano', 'BRANCA']\n",
      "['Posto SÃ£o Caetano', 'BRANCA', 'Ladeira do Camurujipe, s/nÂº,Salvador,Bahia']\n",
      "-- linha --\n",
      "['Posto ItajubÃ¡']\n",
      "['Posto ItajubÃ¡', 'BR']\n",
      "['Posto ItajubÃ¡', 'BR', 'Av. Arnaldo Lopes Silva, 736,Salvador,Bahia']\n",
      "-- linha --\n",
      "['Posto KalilÃ¢ndia Flamboyan']\n",
      "['Posto KalilÃ¢ndia Flamboyan', 'SHELL']\n",
      "['Posto KalilÃ¢ndia Flamboyan', 'SHELL', 'Av. Luis Viana Filho, 7.419,Salvador,Bahia']\n",
      "-- linha --\n",
      "['Posto Paraki']\n",
      "['Posto Paraki', 'BR']\n",
      "['Posto Paraki', 'BR', 'Rodovia BA-093, Km 1,SimÃµes Filho,Bahia']\n",
      "-- linha --\n",
      "['Posto Ceasa']\n",
      "['Posto Ceasa', 'BR']\n",
      "['Posto Ceasa', 'BR', 'Rodovia CIA/Aeroporto, Km 05,SimÃµes Filho,Bahia']\n",
      "-- linha --\n"
     ]
    }
   ],
   "source": [
    "linha = []\n",
    "for a in aux:\n",
    "    print('-- linha --')    \n",
    "    linha.append(registro)\n",
    "    registro = []\n",
    "    for cmp in a:\n",
    "        registro.append(cmp.split('=')[1])\n",
    "        print(registro)\n",
    "        \n",
    "linha = linha[1:]"
   ]
  },
  {
   "cell_type": "code",
   "execution_count": 29,
   "metadata": {},
   "outputs": [],
   "source": [
    "df_postos = pd.DataFrame(linha, columns=['nome','bandeira','endereco'])"
   ]
  },
  {
   "cell_type": "code",
   "execution_count": 31,
   "metadata": {},
   "outputs": [],
   "source": [
    "df_postos.to_csv('postos.csv')"
   ]
  }
 ],
 "metadata": {
  "kernelspec": {
   "display_name": "Python 3",
   "language": "python",
   "name": "python3"
  },
  "language_info": {
   "codemirror_mode": {
    "name": "ipython",
    "version": 3
   },
   "file_extension": ".py",
   "mimetype": "text/x-python",
   "name": "python",
   "nbconvert_exporter": "python",
   "pygments_lexer": "ipython3",
   "version": "3.7.3"
  }
 },
 "nbformat": 4,
 "nbformat_minor": 2
}
