{
 "cells": [
  {
   "cell_type": "code",
   "execution_count": 1,
   "metadata": {},
   "outputs": [],
   "source": [
    "# pip install beautifulsoup4\n",
    "# !pip install geopy\n",
    "# !pip install gpxpy\n",
    "# !pip install mplleaflet\n",
    "# !pip install neo4j\n",
    "# !pip install python-igraph"
   ]
  },
  {
   "cell_type": "code",
   "execution_count": 2,
   "metadata": {},
   "outputs": [],
   "source": [
    "import gpxpy\n",
    "import pandas as pd\n",
    "import geopy\n",
    "from geopy.distance import geodesic\n",
    "from geopy.geocoders import Nominatim\n",
    "import matplotlib.pyplot as plt\n",
    "import mplleaflet\n",
    "import numpy as np\n",
    "import glob\n",
    "import datetime\n",
    "from datetime import datetime\n",
    "from datetime import timedelta\n",
    "import matplotlib.colors as mcolors"
   ]
  },
  {
   "cell_type": "code",
   "execution_count": 3,
   "metadata": {},
   "outputs": [
    {
     "name": "stdout",
     "output_type": "stream",
     "text": [
      "gpx/20190407.gpx\n",
      "gpx/20191008.gpx\n",
      "gpx/20191020.gpx\n",
      "gpx/20190907.gpx\n",
      "gpx/20191022.gpx\n",
      "gpx/20191006.gpx\n",
      "gpx/20190112.gpx\n",
      "gpx/20190903.gpx\n",
      "gpx/20190428.gpx\n",
      "gpx/20190113.gpx\n",
      "gpx/20191018.gpx\n",
      "gpx/20190823.gpx\n",
      "gpx/20190902.gpx\n",
      "gpx/20191009.gpx\n",
      "gpx/20191017.gpx\n",
      "gpx/20190429.gpx\n",
      "gpx/20190502.gpx\n",
      "gpx/20191016.gpx\n",
      "gpx/20191025.gpx\n",
      "gpx/20190526.gpx\n",
      "gpx/20191021.gpx\n",
      "gpx/20191007.gpx\n",
      "gpx/20190906.gpx\n",
      "gpx/20190304.gpx\n",
      "gpx/20190306.gpx\n",
      "gpx/20190904.gpx\n",
      "gpx/20190905.gpx\n",
      "gpx/20190430.gpx\n",
      "gpx/20190501.gpx\n",
      "gpx/20190408.gpx\n",
      "gpx/20190111.gpx\n",
      "gpx/20191019.gpx\n",
      "gpx/20191004.gpx\n",
      "gpx/20191005.gpx\n"
     ]
    }
   ],
   "source": [
    "gpx_arr=[]\n",
    "segments=[]\n",
    "dado = []\n",
    "for name in glob.glob('gpx/*.gpx'):\n",
    "    print(name)\n",
    "    gpx_arr.append(gpxpy.parse(open(name)))\n",
    "    \n",
    "for gpx0 in gpx_arr:\n",
    "    segments.append(gpx0.tracks[0].segments[0])\n",
    "    \n",
    "for seg in segments:\n",
    "    for point_idx, point in enumerate(seg.points):\n",
    "        dado.append([point.longitude, point.latitude,\n",
    "                 point.elevation, point.time, seg.get_speed(point_idx)]) "
   ]
  },
  {
   "cell_type": "code",
   "execution_count": 23,
   "metadata": {},
   "outputs": [],
   "source": [
    "columns = ['Longitude', 'Latitude', 'Altitude', 'Time', 'Speed']\n",
    "df = pd.DataFrame(dado, columns=columns)\n",
    "df.sort_values(by=['Time'], inplace=True)\n",
    "df['dia_da_semana'] = df.Time.dt.day_name(locale='pt_BR.utf8')"
   ]
  },
  {
   "cell_type": "code",
   "execution_count": 5,
   "metadata": {},
   "outputs": [],
   "source": [
    "def monta(df):\n",
    "    lo_origem = []\n",
    "    la_origem = []\n",
    "    lo_destino = []\n",
    "    la_destino = []\n",
    "    velocidade_media = []\n",
    "    distancia = []\n",
    "    altitude_origem = []\n",
    "    altitude_destino = []\n",
    "    hora_origem = []\n",
    "    hora_destino = []\n",
    "    duracao = []\n",
    "    data = []\n",
    "    dia_da_semana = []\n",
    "    for idx in range(1, len(df)):\n",
    "        lo_origem.append(df.iloc[idx-1].Longitude)\n",
    "        la_origem.append(df.iloc[idx-1].Latitude)\n",
    "        lo_destino.append(df.iloc[idx].Longitude)\n",
    "        la_destino.append(df.iloc[idx].Latitude)\n",
    "        distancia.append(geodesic([df.iloc[idx-1].Longitude,df.iloc[idx-1].Latitude],[df.iloc[idx].Longitude, df.iloc[idx].Latitude]).km)\n",
    "        velocidade_media.append(np.mean([df.iloc[idx-1].Speed,df.iloc[idx].Speed]))\n",
    "        altitude_origem.append(df.iloc[idx-1].Altitude)\n",
    "        altitude_destino.append(df.iloc[idx].Altitude)\n",
    "        data.append(df.iloc[idx]['data'])\n",
    "        dia_da_semana.append(df.iloc[idx].dia_da_semana)\n",
    "        hora_origem.append(df.iloc[idx-1].hora)\n",
    "        hora_destino.append(df.iloc[idx].hora)\n",
    "        origem = df.iloc[idx-1].hora\n",
    "        destino = df.iloc[idx].hora\n",
    "        td = timedelta(hours=destino.hour, minutes=destino.minute, seconds=destino.second)\n",
    "        to = timedelta(hours=origem.hour, minutes=origem.minute, seconds=origem.second)\n",
    "        duracao.append(td-to)\n",
    "    df_trk = pd.DataFrame()\n",
    "    df_trk['lo_origem'] = lo_origem\n",
    "    df_trk['la_origem'] = la_origem\n",
    "\n",
    "    df_trk['lo_destino'] = lo_destino\n",
    "    df_trk['la_destino'] = la_destino\n",
    "\n",
    "    df_trk['velocidade_media'] = velocidade_media\n",
    "    df_trk['distancia'] = distancia\n",
    "\n",
    "    df_trk['altitude_origem'] = altitude_origem\n",
    "    df_trk['altitude_destino'] = altitude_destino\n",
    "    df_trk['data'] = data\n",
    "    df_trk['dia_da_semana'] = dia_da_semana\n",
    "    df_trk['hora_origem'] = hora_origem\n",
    "    df_trk['hora_destino'] = hora_destino\n",
    "    df_trk['duracao'] = duracao\n",
    "    \n",
    "#     df_trk = df_trk.fillna(0)\n",
    "    return df_trk"
   ]
  },
  {
   "cell_type": "code",
   "execution_count": 6,
   "metadata": {},
   "outputs": [],
   "source": [
    "df['data']=df.Time.dt.date\n",
    "df['hora']=df.Time.dt.time\n",
    "df.drop(columns=['Time'],inplace=True)\n",
    "dias = list(df.data.unique())\n",
    "trilhas = []\n",
    "for dia in dias:\n",
    "    if(len(df.loc[df.data == dia])>=10):\n",
    "        trilhas.append(monta(df.loc[df.data == dia]))    "
   ]
  },
  {
   "cell_type": "code",
   "execution_count": 7,
   "metadata": {
    "scrolled": true
   },
   "outputs": [],
   "source": [
    "df_trk = pd.DataFrame()\n",
    "for d in trilhas:\n",
    "    df_trk = df_trk.append(d, ignore_index = True) "
   ]
  },
  {
   "cell_type": "code",
   "execution_count": 10,
   "metadata": {
    "scrolled": true
   },
   "outputs": [
    {
     "data": {
      "text/plain": [
       "data\n",
       "2019-01-11    345\n",
       "2019-01-12    126\n",
       "2019-01-13     52\n",
       "2019-03-06     46\n",
       "2019-04-07     78\n",
       "2019-04-08     89\n",
       "2019-04-28     53\n",
       "2019-04-29     82\n",
       "2019-04-30     76\n",
       "2019-05-01     90\n",
       "2019-05-02     78\n",
       "2019-05-26     69\n",
       "2019-09-03     59\n",
       "2019-09-04     85\n",
       "2019-09-05     91\n",
       "2019-09-06     78\n",
       "2019-09-07     77\n",
       "2019-10-04     31\n",
       "2019-10-05    120\n",
       "2019-10-06    100\n",
       "2019-10-07    106\n",
       "2019-10-08     70\n",
       "2019-10-09     73\n",
       "2019-10-16     66\n",
       "2019-10-17     85\n",
       "2019-10-18     59\n",
       "2019-10-19    142\n",
       "2019-10-20    137\n",
       "2019-10-21     79\n",
       "2019-10-22     52\n",
       "2019-10-25     69\n",
       "Name: data, dtype: int64"
      ]
     },
     "execution_count": 10,
     "metadata": {},
     "output_type": "execute_result"
    }
   ],
   "source": [
    "df_trk.groupby(by=['data'])['data'].count()"
   ]
  },
  {
   "cell_type": "code",
   "execution_count": 231,
   "metadata": {},
   "outputs": [
    {
     "data": {
      "text/plain": [
       "dia_da_semana\n",
       "Domingo     53\n",
       "Sexta      346\n",
       "Sábado     127\n",
       "Name: dia_da_semana, dtype: int64"
      ]
     },
     "execution_count": 231,
     "metadata": {},
     "output_type": "execute_result"
    }
   ],
   "source": [
    "df_jan = df.loc[df.Time.dt.month == 1]\n",
    "df_jan.groupby(by='dia_da_semana')['dia_da_semana'].count()\n"
   ]
  },
  {
   "cell_type": "code",
   "execution_count": 297,
   "metadata": {},
   "outputs": [
    {
     "data": {
      "text/plain": [
       "dia_da_semana\n",
       "Sexta     109\n",
       "Sábado     20\n",
       "Name: dia_da_semana, dtype: int64"
      ]
     },
     "execution_count": 297,
     "metadata": {},
     "output_type": "execute_result"
    }
   ],
   "source": [
    "df_jan[(df_jan['Longitude']==-38.463) & (df_jan['Latitude']==-12.9989)].groupby(by='dia_da_semana')['dia_da_semana'].count()"
   ]
  },
  {
   "cell_type": "code",
   "execution_count": 283,
   "metadata": {},
   "outputs": [
    {
     "data": {
      "text/plain": [
       "-12.9989    169\n",
       "-12.9988     36\n",
       "-13.0023     31\n",
       "-13.0018     22\n",
       "-13.0025     19\n",
       "Name: Latitude, dtype: int64"
      ]
     },
     "execution_count": 283,
     "metadata": {},
     "output_type": "execute_result"
    }
   ],
   "source": [
    "df_jan['Latitude'].value_counts().head()"
   ]
  },
  {
   "cell_type": "code",
   "execution_count": 282,
   "metadata": {
    "scrolled": true
   },
   "outputs": [
    {
     "data": {
      "text/plain": [
       "-38.4630    153\n",
       "-38.4631     80\n",
       "-38.4585     29\n",
       "-38.4586     21\n",
       "-38.4587     17\n",
       "Name: Longitude, dtype: int64"
      ]
     },
     "execution_count": 282,
     "metadata": {},
     "output_type": "execute_result"
    }
   ],
   "source": [
    "df_jan['Longitude'].value_counts().head()"
   ]
  }
 ],
 "metadata": {
  "kernelspec": {
   "display_name": "Python 3",
   "language": "python",
   "name": "python3"
  },
  "language_info": {
   "codemirror_mode": {
    "name": "ipython",
    "version": 3
   },
   "file_extension": ".py",
   "mimetype": "text/x-python",
   "name": "python",
   "nbconvert_exporter": "python",
   "pygments_lexer": "ipython3",
   "version": "3.7.3"
  }
 },
 "nbformat": 4,
 "nbformat_minor": 2
}
