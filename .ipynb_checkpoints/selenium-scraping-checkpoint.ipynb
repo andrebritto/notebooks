{
 "cells": [
  {
   "cell_type": "code",
   "execution_count": 1,
   "metadata": {},
   "outputs": [],
   "source": [
    "from selenium import webdriver\n",
    "from selenium.webdriver.support.select import Select\n",
    "from bs4 import BeautifulSoup\n",
    "import pandas as pd\n",
    "import matplotlib.pyplot as plt\n"
   ]
  },
  {
   "cell_type": "code",
   "execution_count": 2,
   "metadata": {},
   "outputs": [
    {
     "name": "stdout",
     "output_type": "stream",
     "text": [
      "Todos\n",
      "1º bimestre\n",
      "2º bimestre\n",
      "3º bimestre\n",
      "4º bimestre\n"
     ]
    }
   ],
   "source": [
    "firefox = webdriver.Firefox(executable_path='/opt/geckodriver')\n",
    "firefox.get('https://aluno.sebsa.com.br/loginSalvador.aspx')\n",
    "form1 = firefox.find_element_by_id('form1')\n",
    "txtUsuario = firefox.find_element_by_id('txtUsuario')\n",
    "txtUsuario.send_keys('ALTB354079')\n",
    "txtSenha = firefox.find_element_by_id('txtSenha')\n",
    "txtSenha.send_keys('8c66327-')\n",
    "firefox.find_element_by_id('btnLogin').click()\n",
    "\n",
    "firefox.get('https://aluno.sebsa.com.br/DualAccess.aspx')\n",
    "dentro = firefox.find_element_by_class_name('BotaoLogin').get_attribute(\"href\")\n",
    "firefox.get(dentro)\n",
    "firefox.get('https://aluno.sebsa.com.br/Aluno/NotasFaltasOcorrencias.aspx')\n",
    "\n",
    "bimestre = Select(firefox.find_element_by_id('ddlSemestre'))\n",
    "for el in bimestre.options:\n",
    "    print(el.text)\n",
    "\n",
    "bimestre.select_by_index(1)"
   ]
  },
  {
   "cell_type": "code",
   "execution_count": 3,
   "metadata": {
    "scrolled": false
   },
   "outputs": [],
   "source": [
    "pagina=BeautifulSoup(firefox.page_source, 'lxml')"
   ]
  },
  {
   "cell_type": "code",
   "execution_count": 4,
   "metadata": {},
   "outputs": [],
   "source": [
    "df1 = pd.DataFrame()\n",
    "df2 = pd.DataFrame()\n",
    "df3 = pd.DataFrame()\n",
    "df4 = pd.DataFrame()\n",
    "df_ocorrencias = pd.DataFrame()"
   ]
  },
  {
   "cell_type": "code",
   "execution_count": 5,
   "metadata": {},
   "outputs": [],
   "source": [
    "disciplinas = [ elemento.text.strip() for elemento in pagina.select(\"span[id*=rptNotasBimestral_lbDisciplina_]\")]\n",
    "avaliacoes = [ elemento.text.strip() for elemento in pagina.select(\"span[id*=rptNotasBimestral_lbProva_]\")]\n",
    "notas = [ elemento.text.strip() for elemento in pagina.select(\"span[id*=rptNotasBimestral_lbNota_]\")]\n",
    "\n",
    "df1['disciplina'] = disciplinas\n",
    "df1['avaliacao'] = avaliacoes\n",
    "df1['notas'] = notas"
   ]
  },
  {
   "cell_type": "code",
   "execution_count": 6,
   "metadata": {},
   "outputs": [],
   "source": [
    "bimestre = Select(firefox.find_element_by_id('ddlSemestre'))\n",
    "bimestre.select_by_index(2)\n",
    "pagina=BeautifulSoup(firefox.page_source, 'lxml')\n",
    "\n",
    "disciplinas = [ elemento.text.strip() for elemento in pagina.select(\"span[id*=rptNotasBimestral_lbDisciplina_]\")]\n",
    "avaliacoes = [ elemento.text.strip() for elemento in pagina.select(\"span[id*=rptNotasBimestral_lbProva_]\")]\n",
    "notas = [ elemento.text.strip() for elemento in pagina.select(\"span[id*=rptNotasBimestral_lbNota_]\")]\n",
    "\n",
    "df2['disciplina'] = disciplinas\n",
    "df2['avaliacao'] = avaliacoes\n",
    "df2['notas'] = notas"
   ]
  },
  {
   "cell_type": "code",
   "execution_count": 7,
   "metadata": {},
   "outputs": [],
   "source": [
    "bimestre = Select(firefox.find_element_by_id('ddlSemestre'))\n",
    "bimestre.select_by_index(3)\n",
    "pagina=BeautifulSoup(firefox.page_source, 'lxml')\n",
    "\n",
    "disciplinas = [ elemento.text.strip() for elemento in pagina.select(\"span[id*=rptNotasBimestral_lbDisciplina_]\")]\n",
    "avaliacoes = [ elemento.text.strip() for elemento in pagina.select(\"span[id*=rptNotasBimestral_lbProva_]\")]\n",
    "notas = [ elemento.text.strip() for elemento in pagina.select(\"span[id*=rptNotasBimestral_lbNota_]\")]\n",
    "\n",
    "df3['disciplina'] = disciplinas\n",
    "df3['avaliacao'] = avaliacoes\n",
    "df3['notas'] = notas"
   ]
  },
  {
   "cell_type": "code",
   "execution_count": 8,
   "metadata": {},
   "outputs": [],
   "source": [
    "bimestre = Select(firefox.find_element_by_id('ddlSemestre'))\n",
    "bimestre.select_by_index(4)\n",
    "pagina=BeautifulSoup(firefox.page_source, 'lxml')\n",
    "\n",
    "disciplinas = [ elemento.text.strip() for elemento in pagina.select(\"span[id*=rptNotasBimestral_lbDisciplina_]\")]\n",
    "avaliacoes = [ elemento.text.strip() for elemento in pagina.select(\"span[id*=rptNotasBimestral_lbProva_]\")]\n",
    "notas = [ elemento.text.strip() for elemento in pagina.select(\"span[id*=rptNotasBimestral_lbNota_]\")]\n",
    "\n",
    "df4['disciplina'] = disciplinas\n",
    "df4['avaliacao'] = avaliacoes\n",
    "df4['notas'] = notas"
   ]
  },
  {
   "cell_type": "code",
   "execution_count": 9,
   "metadata": {},
   "outputs": [],
   "source": [
    "df1.notas = df1.notas.apply(lambda x: pd.to_numeric(x.replace(',','.')))\n",
    "df2.notas = df2.notas.apply(lambda x: pd.to_numeric(x.replace(',','.')))\n",
    "df3.notas = df3.notas.apply(lambda x: pd.to_numeric(x.replace(',','.')))\n",
    "df4.notas = df4.notas.apply(lambda x: pd.to_numeric(x.replace(',','.')))"
   ]
  },
  {
   "cell_type": "code",
   "execution_count": 10,
   "metadata": {},
   "outputs": [],
   "source": [
    "data_ocorrencia = [ elemento.text.strip() for elemento in pagina.select(\"span[id*=rptOcorrencias_lbData_]\")]\n",
    "descricao_ocorrencia = [ elemento.text.strip() for elemento in pagina.select(\"span[id*=rptOcorrencias_lbDescricao_]\")]\n",
    "observacao_ocorrencia = [ elemento.text.strip() for elemento in pagina.select(\"span[id*=rptOcorrencias_lbObs_]\")]\n"
   ]
  },
  {
   "cell_type": "code",
   "execution_count": 11,
   "metadata": {
    "scrolled": true
   },
   "outputs": [],
   "source": [
    "df_ocorrencias['data'] = data_ocorrencia\n",
    "df_ocorrencias['descricao'] = descricao_ocorrencia\n",
    "df_ocorrencias['obs'] = observacao_ocorrencia"
   ]
  },
  {
   "cell_type": "code",
   "execution_count": 12,
   "metadata": {},
   "outputs": [
    {
     "data": {
      "text/html": [
       "<div>\n",
       "<style scoped>\n",
       "    .dataframe tbody tr th:only-of-type {\n",
       "        vertical-align: middle;\n",
       "    }\n",
       "\n",
       "    .dataframe tbody tr th {\n",
       "        vertical-align: top;\n",
       "    }\n",
       "\n",
       "    .dataframe thead th {\n",
       "        text-align: right;\n",
       "    }\n",
       "</style>\n",
       "<table border=\"1\" class=\"dataframe\">\n",
       "  <thead>\n",
       "    <tr style=\"text-align: right;\">\n",
       "      <th></th>\n",
       "      <th>data</th>\n",
       "      <th>descricao</th>\n",
       "      <th>obs</th>\n",
       "    </tr>\n",
       "  </thead>\n",
       "  <tbody>\n",
       "    <tr>\n",
       "      <th>0</th>\n",
       "      <td>06/11/2019 00:00:00</td>\n",
       "      <td>LingEst - Sem Tarefa</td>\n",
       "      <td>Nenhuma</td>\n",
       "    </tr>\n",
       "    <tr>\n",
       "      <th>1</th>\n",
       "      <td>05/11/2019 00:00:00</td>\n",
       "      <td>Sem tarefa - Língua Portuguesa</td>\n",
       "      <td>Nenhuma</td>\n",
       "    </tr>\n",
       "    <tr>\n",
       "      <th>2</th>\n",
       "      <td>02/10/2019 00:00:00</td>\n",
       "      <td>LingEst - Sem Tarefa</td>\n",
       "      <td>Nenhuma</td>\n",
       "    </tr>\n",
       "    <tr>\n",
       "      <th>3</th>\n",
       "      <td>30/09/2019 00:00:00</td>\n",
       "      <td>LingEst - Sem Tarefa</td>\n",
       "      <td>Nenhuma</td>\n",
       "    </tr>\n",
       "    <tr>\n",
       "      <th>4</th>\n",
       "      <td>25/09/2019 00:00:00</td>\n",
       "      <td>LingEst - Sem Tarefa</td>\n",
       "      <td>Nenhuma</td>\n",
       "    </tr>\n",
       "    <tr>\n",
       "      <th>5</th>\n",
       "      <td>02/09/2019 00:00:00</td>\n",
       "      <td>Sem tarefa - Língua Portuguesa</td>\n",
       "      <td>Nenhuma</td>\n",
       "    </tr>\n",
       "    <tr>\n",
       "      <th>6</th>\n",
       "      <td>02/09/2019 00:00:00</td>\n",
       "      <td>Sem tarefa de Hist. e Geo.</td>\n",
       "      <td>Nenhuma</td>\n",
       "    </tr>\n",
       "    <tr>\n",
       "      <th>7</th>\n",
       "      <td>30/08/2019 00:00:00</td>\n",
       "      <td>Sem tarefa - Matemática</td>\n",
       "      <td>Nenhuma</td>\n",
       "    </tr>\n",
       "    <tr>\n",
       "      <th>8</th>\n",
       "      <td>26/08/2019 00:00:00</td>\n",
       "      <td>Sem tarefa de Hist. e Geo.</td>\n",
       "      <td>Nenhuma</td>\n",
       "    </tr>\n",
       "    <tr>\n",
       "      <th>9</th>\n",
       "      <td>19/08/2019 00:00:00</td>\n",
       "      <td>Sem tarefa - Língua Portuguesa</td>\n",
       "      <td>Nenhuma</td>\n",
       "    </tr>\n",
       "    <tr>\n",
       "      <th>10</th>\n",
       "      <td>25/07/2019 00:00:00</td>\n",
       "      <td>Descumprindo Combinados</td>\n",
       "      <td>Nenhuma</td>\n",
       "    </tr>\n",
       "    <tr>\n",
       "      <th>11</th>\n",
       "      <td>23/07/2019 00:00:00</td>\n",
       "      <td>Tarefa incompleta de Português</td>\n",
       "      <td>Nenhuma</td>\n",
       "    </tr>\n",
       "    <tr>\n",
       "      <th>12</th>\n",
       "      <td>22/07/2019 00:00:00</td>\n",
       "      <td>LingEst - Sem Tarefa</td>\n",
       "      <td>Nenhuma</td>\n",
       "    </tr>\n",
       "    <tr>\n",
       "      <th>13</th>\n",
       "      <td>22/07/2019 00:00:00</td>\n",
       "      <td>Tarefa incompleta de Hist e Geo.</td>\n",
       "      <td>Nenhuma</td>\n",
       "    </tr>\n",
       "    <tr>\n",
       "      <th>14</th>\n",
       "      <td>06/06/2019 00:00:00</td>\n",
       "      <td>Sem tarefa - Língua Portuguesa</td>\n",
       "      <td>Nenhuma</td>\n",
       "    </tr>\n",
       "    <tr>\n",
       "      <th>15</th>\n",
       "      <td>28/05/2019 00:00:00</td>\n",
       "      <td>Sem tarefa - Matemática</td>\n",
       "      <td>Nenhuma</td>\n",
       "    </tr>\n",
       "    <tr>\n",
       "      <th>16</th>\n",
       "      <td>22/05/2019 00:00:00</td>\n",
       "      <td>Sem tarefa - Matemática</td>\n",
       "      <td>Nenhuma</td>\n",
       "    </tr>\n",
       "    <tr>\n",
       "      <th>17</th>\n",
       "      <td>22/05/2019 00:00:00</td>\n",
       "      <td>Tarefa Incompleta de sala Língua Portugu</td>\n",
       "      <td>Nenhuma</td>\n",
       "    </tr>\n",
       "    <tr>\n",
       "      <th>18</th>\n",
       "      <td>16/05/2019 00:00:00</td>\n",
       "      <td>Sem tarefa - Língua Portuguesa</td>\n",
       "      <td>Nenhuma</td>\n",
       "    </tr>\n",
       "    <tr>\n",
       "      <th>19</th>\n",
       "      <td>13/05/2019 00:00:00</td>\n",
       "      <td>Sem tarefa de Hist. e Geo.</td>\n",
       "      <td>Nenhuma</td>\n",
       "    </tr>\n",
       "    <tr>\n",
       "      <th>20</th>\n",
       "      <td>06/05/2019 00:00:00</td>\n",
       "      <td>Sem tarefa de Hist. e Geo.</td>\n",
       "      <td>Nenhuma</td>\n",
       "    </tr>\n",
       "    <tr>\n",
       "      <th>21</th>\n",
       "      <td>17/04/2019 00:00:00</td>\n",
       "      <td>Tarefa incompleta de Português</td>\n",
       "      <td>Nenhuma</td>\n",
       "    </tr>\n",
       "    <tr>\n",
       "      <th>22</th>\n",
       "      <td>01/04/2019 00:00:00</td>\n",
       "      <td>Conversa-Língua Portuguesa</td>\n",
       "      <td>Nenhuma</td>\n",
       "    </tr>\n",
       "    <tr>\n",
       "      <th>23</th>\n",
       "      <td>01/04/2019 00:00:00</td>\n",
       "      <td>Conversa-Matemática</td>\n",
       "      <td>Nenhuma</td>\n",
       "    </tr>\n",
       "    <tr>\n",
       "      <th>24</th>\n",
       "      <td>28/03/2019 00:00:00</td>\n",
       "      <td>Sem tarefa de Hist. e Geo.</td>\n",
       "      <td>Nenhuma</td>\n",
       "    </tr>\n",
       "  </tbody>\n",
       "</table>\n",
       "</div>"
      ],
      "text/plain": [
       "                   data                                 descricao      obs\n",
       "0   06/11/2019 00:00:00                      LingEst - Sem Tarefa  Nenhuma\n",
       "1   05/11/2019 00:00:00            Sem tarefa - Língua Portuguesa  Nenhuma\n",
       "2   02/10/2019 00:00:00                      LingEst - Sem Tarefa  Nenhuma\n",
       "3   30/09/2019 00:00:00                      LingEst - Sem Tarefa  Nenhuma\n",
       "4   25/09/2019 00:00:00                      LingEst - Sem Tarefa  Nenhuma\n",
       "5   02/09/2019 00:00:00            Sem tarefa - Língua Portuguesa  Nenhuma\n",
       "6   02/09/2019 00:00:00                Sem tarefa de Hist. e Geo.  Nenhuma\n",
       "7   30/08/2019 00:00:00                   Sem tarefa - Matemática  Nenhuma\n",
       "8   26/08/2019 00:00:00                Sem tarefa de Hist. e Geo.  Nenhuma\n",
       "9   19/08/2019 00:00:00            Sem tarefa - Língua Portuguesa  Nenhuma\n",
       "10  25/07/2019 00:00:00                   Descumprindo Combinados  Nenhuma\n",
       "11  23/07/2019 00:00:00            Tarefa incompleta de Português  Nenhuma\n",
       "12  22/07/2019 00:00:00                      LingEst - Sem Tarefa  Nenhuma\n",
       "13  22/07/2019 00:00:00          Tarefa incompleta de Hist e Geo.  Nenhuma\n",
       "14  06/06/2019 00:00:00            Sem tarefa - Língua Portuguesa  Nenhuma\n",
       "15  28/05/2019 00:00:00                   Sem tarefa - Matemática  Nenhuma\n",
       "16  22/05/2019 00:00:00                   Sem tarefa - Matemática  Nenhuma\n",
       "17  22/05/2019 00:00:00  Tarefa Incompleta de sala Língua Portugu  Nenhuma\n",
       "18  16/05/2019 00:00:00            Sem tarefa - Língua Portuguesa  Nenhuma\n",
       "19  13/05/2019 00:00:00                Sem tarefa de Hist. e Geo.  Nenhuma\n",
       "20  06/05/2019 00:00:00                Sem tarefa de Hist. e Geo.  Nenhuma\n",
       "21  17/04/2019 00:00:00            Tarefa incompleta de Português  Nenhuma\n",
       "22  01/04/2019 00:00:00                Conversa-Língua Portuguesa  Nenhuma\n",
       "23  01/04/2019 00:00:00                       Conversa-Matemática  Nenhuma\n",
       "24  28/03/2019 00:00:00                Sem tarefa de Hist. e Geo.  Nenhuma"
      ]
     },
     "execution_count": 12,
     "metadata": {},
     "output_type": "execute_result"
    }
   ],
   "source": [
    "df_ocorrencias"
   ]
  },
  {
   "cell_type": "code",
   "execution_count": 13,
   "metadata": {},
   "outputs": [
    {
     "ename": "KeyError",
     "evalue": "'disciplina'",
     "output_type": "error",
     "traceback": [
      "\u001b[0;31m---------------------------------------------------------------------------\u001b[0m",
      "\u001b[0;31mKeyError\u001b[0m                                  Traceback (most recent call last)",
      "\u001b[0;32m<ipython-input-13-a7de5b66bcc7>\u001b[0m in \u001b[0;36m<module>\u001b[0;34m\u001b[0m\n\u001b[0;32m----> 1\u001b[0;31m \u001b[0mdados1\u001b[0m \u001b[0;34m=\u001b[0m \u001b[0mdf1\u001b[0m\u001b[0;34m[\u001b[0m\u001b[0mdf1\u001b[0m\u001b[0;34m.\u001b[0m\u001b[0mavaliacao\u001b[0m\u001b[0;34m.\u001b[0m\u001b[0mapply\u001b[0m\u001b[0;34m(\u001b[0m\u001b[0;32mlambda\u001b[0m \u001b[0mx\u001b[0m\u001b[0;34m:\u001b[0m \u001b[0mx\u001b[0m\u001b[0;34m.\u001b[0m\u001b[0mstartswith\u001b[0m\u001b[0;34m(\u001b[0m\u001b[0;34m'AT'\u001b[0m\u001b[0;34m)\u001b[0m\u001b[0;34m)\u001b[0m\u001b[0;34m]\u001b[0m\u001b[0;34m.\u001b[0m\u001b[0mgroupby\u001b[0m\u001b[0;34m(\u001b[0m\u001b[0;34m'disciplina'\u001b[0m\u001b[0;34m)\u001b[0m\u001b[0;34m.\u001b[0m\u001b[0msum\u001b[0m\u001b[0;34m(\u001b[0m\u001b[0;34m)\u001b[0m\u001b[0;34m\u001b[0m\u001b[0;34m\u001b[0m\u001b[0m\n\u001b[0m\u001b[1;32m      2\u001b[0m \u001b[0mdados2\u001b[0m \u001b[0;34m=\u001b[0m \u001b[0mdf2\u001b[0m\u001b[0;34m[\u001b[0m\u001b[0mdf2\u001b[0m\u001b[0;34m.\u001b[0m\u001b[0mavaliacao\u001b[0m\u001b[0;34m.\u001b[0m\u001b[0mapply\u001b[0m\u001b[0;34m(\u001b[0m\u001b[0;32mlambda\u001b[0m \u001b[0mx\u001b[0m\u001b[0;34m:\u001b[0m \u001b[0mx\u001b[0m\u001b[0;34m.\u001b[0m\u001b[0mstartswith\u001b[0m\u001b[0;34m(\u001b[0m\u001b[0;34m'AT'\u001b[0m\u001b[0;34m)\u001b[0m\u001b[0;34m)\u001b[0m\u001b[0;34m]\u001b[0m\u001b[0;34m.\u001b[0m\u001b[0mgroupby\u001b[0m\u001b[0;34m(\u001b[0m\u001b[0;34m'disciplina'\u001b[0m\u001b[0;34m)\u001b[0m\u001b[0;34m.\u001b[0m\u001b[0msum\u001b[0m\u001b[0;34m(\u001b[0m\u001b[0;34m)\u001b[0m\u001b[0;34m\u001b[0m\u001b[0;34m\u001b[0m\u001b[0m\n\u001b[1;32m      3\u001b[0m \u001b[0mdados3\u001b[0m \u001b[0;34m=\u001b[0m \u001b[0mdf3\u001b[0m\u001b[0;34m[\u001b[0m\u001b[0mdf3\u001b[0m\u001b[0;34m.\u001b[0m\u001b[0mavaliacao\u001b[0m\u001b[0;34m.\u001b[0m\u001b[0mapply\u001b[0m\u001b[0;34m(\u001b[0m\u001b[0;32mlambda\u001b[0m \u001b[0mx\u001b[0m\u001b[0;34m:\u001b[0m \u001b[0mx\u001b[0m\u001b[0;34m.\u001b[0m\u001b[0mstartswith\u001b[0m\u001b[0;34m(\u001b[0m\u001b[0;34m'AT'\u001b[0m\u001b[0;34m)\u001b[0m\u001b[0;34m)\u001b[0m\u001b[0;34m]\u001b[0m\u001b[0;34m.\u001b[0m\u001b[0mgroupby\u001b[0m\u001b[0;34m(\u001b[0m\u001b[0;34m'disciplina'\u001b[0m\u001b[0;34m)\u001b[0m\u001b[0;34m.\u001b[0m\u001b[0msum\u001b[0m\u001b[0;34m(\u001b[0m\u001b[0;34m)\u001b[0m\u001b[0;34m\u001b[0m\u001b[0;34m\u001b[0m\u001b[0m\n\u001b[1;32m      4\u001b[0m \u001b[0mdados4\u001b[0m \u001b[0;34m=\u001b[0m \u001b[0mdf4\u001b[0m\u001b[0;34m[\u001b[0m\u001b[0mdf4\u001b[0m\u001b[0;34m.\u001b[0m\u001b[0mavaliacao\u001b[0m\u001b[0;34m.\u001b[0m\u001b[0mapply\u001b[0m\u001b[0;34m(\u001b[0m\u001b[0;32mlambda\u001b[0m \u001b[0mx\u001b[0m\u001b[0;34m:\u001b[0m \u001b[0mx\u001b[0m\u001b[0;34m.\u001b[0m\u001b[0mstartswith\u001b[0m\u001b[0;34m(\u001b[0m\u001b[0;34m'AT'\u001b[0m\u001b[0;34m)\u001b[0m\u001b[0;34m)\u001b[0m\u001b[0;34m]\u001b[0m\u001b[0;34m.\u001b[0m\u001b[0mgroupby\u001b[0m\u001b[0;34m(\u001b[0m\u001b[0;34m'disciplina'\u001b[0m\u001b[0;34m)\u001b[0m\u001b[0;34m.\u001b[0m\u001b[0msum\u001b[0m\u001b[0;34m(\u001b[0m\u001b[0;34m)\u001b[0m\u001b[0;34m\u001b[0m\u001b[0;34m\u001b[0m\u001b[0m\n\u001b[1;32m      5\u001b[0m \u001b[0;34m\u001b[0m\u001b[0m\n",
      "\u001b[0;32m~/anaconda3/lib/python3.7/site-packages/pandas/core/generic.py\u001b[0m in \u001b[0;36mgroupby\u001b[0;34m(self, by, axis, level, as_index, sort, group_keys, squeeze, observed, **kwargs)\u001b[0m\n\u001b[1;32m   7630\u001b[0m         return groupby(self, by=by, axis=axis, level=level, as_index=as_index,\n\u001b[1;32m   7631\u001b[0m                        \u001b[0msort\u001b[0m\u001b[0;34m=\u001b[0m\u001b[0msort\u001b[0m\u001b[0;34m,\u001b[0m \u001b[0mgroup_keys\u001b[0m\u001b[0;34m=\u001b[0m\u001b[0mgroup_keys\u001b[0m\u001b[0;34m,\u001b[0m \u001b[0msqueeze\u001b[0m\u001b[0;34m=\u001b[0m\u001b[0msqueeze\u001b[0m\u001b[0;34m,\u001b[0m\u001b[0;34m\u001b[0m\u001b[0;34m\u001b[0m\u001b[0m\n\u001b[0;32m-> 7632\u001b[0;31m                        observed=observed, **kwargs)\n\u001b[0m\u001b[1;32m   7633\u001b[0m \u001b[0;34m\u001b[0m\u001b[0m\n\u001b[1;32m   7634\u001b[0m     def asfreq(self, freq, method=None, how=None, normalize=False,\n",
      "\u001b[0;32m~/anaconda3/lib/python3.7/site-packages/pandas/core/groupby/groupby.py\u001b[0m in \u001b[0;36mgroupby\u001b[0;34m(obj, by, **kwds)\u001b[0m\n\u001b[1;32m   2108\u001b[0m         \u001b[0;32mraise\u001b[0m \u001b[0mTypeError\u001b[0m\u001b[0;34m(\u001b[0m\u001b[0;34m'invalid type: {}'\u001b[0m\u001b[0;34m.\u001b[0m\u001b[0mformat\u001b[0m\u001b[0;34m(\u001b[0m\u001b[0mobj\u001b[0m\u001b[0;34m)\u001b[0m\u001b[0;34m)\u001b[0m\u001b[0;34m\u001b[0m\u001b[0;34m\u001b[0m\u001b[0m\n\u001b[1;32m   2109\u001b[0m \u001b[0;34m\u001b[0m\u001b[0m\n\u001b[0;32m-> 2110\u001b[0;31m     \u001b[0;32mreturn\u001b[0m \u001b[0mklass\u001b[0m\u001b[0;34m(\u001b[0m\u001b[0mobj\u001b[0m\u001b[0;34m,\u001b[0m \u001b[0mby\u001b[0m\u001b[0;34m,\u001b[0m \u001b[0;34m**\u001b[0m\u001b[0mkwds\u001b[0m\u001b[0;34m)\u001b[0m\u001b[0;34m\u001b[0m\u001b[0;34m\u001b[0m\u001b[0m\n\u001b[0m",
      "\u001b[0;32m~/anaconda3/lib/python3.7/site-packages/pandas/core/groupby/groupby.py\u001b[0m in \u001b[0;36m__init__\u001b[0;34m(self, obj, keys, axis, level, grouper, exclusions, selection, as_index, sort, group_keys, squeeze, observed, **kwargs)\u001b[0m\n\u001b[1;32m    358\u001b[0m                                                     \u001b[0msort\u001b[0m\u001b[0;34m=\u001b[0m\u001b[0msort\u001b[0m\u001b[0;34m,\u001b[0m\u001b[0;34m\u001b[0m\u001b[0;34m\u001b[0m\u001b[0m\n\u001b[1;32m    359\u001b[0m                                                     \u001b[0mobserved\u001b[0m\u001b[0;34m=\u001b[0m\u001b[0mobserved\u001b[0m\u001b[0;34m,\u001b[0m\u001b[0;34m\u001b[0m\u001b[0;34m\u001b[0m\u001b[0m\n\u001b[0;32m--> 360\u001b[0;31m                                                     mutated=self.mutated)\n\u001b[0m\u001b[1;32m    361\u001b[0m \u001b[0;34m\u001b[0m\u001b[0m\n\u001b[1;32m    362\u001b[0m         \u001b[0mself\u001b[0m\u001b[0;34m.\u001b[0m\u001b[0mobj\u001b[0m \u001b[0;34m=\u001b[0m \u001b[0mobj\u001b[0m\u001b[0;34m\u001b[0m\u001b[0;34m\u001b[0m\u001b[0m\n",
      "\u001b[0;32m~/anaconda3/lib/python3.7/site-packages/pandas/core/groupby/grouper.py\u001b[0m in \u001b[0;36m_get_grouper\u001b[0;34m(obj, key, axis, level, sort, observed, mutated, validate)\u001b[0m\n\u001b[1;32m    576\u001b[0m                 \u001b[0min_axis\u001b[0m\u001b[0;34m,\u001b[0m \u001b[0mname\u001b[0m\u001b[0;34m,\u001b[0m \u001b[0mlevel\u001b[0m\u001b[0;34m,\u001b[0m \u001b[0mgpr\u001b[0m \u001b[0;34m=\u001b[0m \u001b[0;32mFalse\u001b[0m\u001b[0;34m,\u001b[0m \u001b[0;32mNone\u001b[0m\u001b[0;34m,\u001b[0m \u001b[0mgpr\u001b[0m\u001b[0;34m,\u001b[0m \u001b[0;32mNone\u001b[0m\u001b[0;34m\u001b[0m\u001b[0;34m\u001b[0m\u001b[0m\n\u001b[1;32m    577\u001b[0m             \u001b[0;32melse\u001b[0m\u001b[0;34m:\u001b[0m\u001b[0;34m\u001b[0m\u001b[0;34m\u001b[0m\u001b[0m\n\u001b[0;32m--> 578\u001b[0;31m                 \u001b[0;32mraise\u001b[0m \u001b[0mKeyError\u001b[0m\u001b[0;34m(\u001b[0m\u001b[0mgpr\u001b[0m\u001b[0;34m)\u001b[0m\u001b[0;34m\u001b[0m\u001b[0;34m\u001b[0m\u001b[0m\n\u001b[0m\u001b[1;32m    579\u001b[0m         \u001b[0;32melif\u001b[0m \u001b[0misinstance\u001b[0m\u001b[0;34m(\u001b[0m\u001b[0mgpr\u001b[0m\u001b[0;34m,\u001b[0m \u001b[0mGrouper\u001b[0m\u001b[0;34m)\u001b[0m \u001b[0;32mand\u001b[0m \u001b[0mgpr\u001b[0m\u001b[0;34m.\u001b[0m\u001b[0mkey\u001b[0m \u001b[0;32mis\u001b[0m \u001b[0;32mnot\u001b[0m \u001b[0;32mNone\u001b[0m\u001b[0;34m:\u001b[0m\u001b[0;34m\u001b[0m\u001b[0;34m\u001b[0m\u001b[0m\n\u001b[1;32m    580\u001b[0m             \u001b[0;31m# Add key to exclusions\u001b[0m\u001b[0;34m\u001b[0m\u001b[0;34m\u001b[0m\u001b[0;34m\u001b[0m\u001b[0m\n",
      "\u001b[0;31mKeyError\u001b[0m: 'disciplina'"
     ]
    }
   ],
   "source": [
    "dados1 = df1[df1.avaliacao.apply(lambda x: x.startswith('AT'))].groupby('disciplina').sum()\n",
    "dados2 = df2[df2.avaliacao.apply(lambda x: x.startswith('AT'))].groupby('disciplina').sum()\n",
    "dados3 = df3[df3.avaliacao.apply(lambda x: x.startswith('AT'))].groupby('disciplina').sum()\n",
    "dados4 = df4[df4.avaliacao.apply(lambda x: x.startswith('AT'))].groupby('disciplina').sum()\n",
    "\n",
    "x = dados1.index"
   ]
  },
  {
   "cell_type": "code",
   "execution_count": null,
   "metadata": {},
   "outputs": [],
   "source": [
    "plt.close()\n",
    "plt.plot(x,dados1.notas, color = 'blue',  label='I Bimestre')\n",
    "plt.plot(x,dados2.notas, color = 'red', label='II Bimestre')\n",
    "plt.plot(x,dados3.notas, color = 'green', label='III Bimestre')\n",
    "plt.plot(x,dados4.notas, color = 'yellow', label='IV Bimestre')\n",
    "plt.title('ATs')\n",
    "plt.legend(loc='upper right')\n"
   ]
  },
  {
   "cell_type": "code",
   "execution_count": null,
   "metadata": {
    "scrolled": true
   },
   "outputs": [],
   "source": [
    "df_at = dados1.join(dados2,lsuffix='_AT_B1', rsuffix='_AT_B2').join(dados3,lsuffix='_AT_B2', rsuffix='_AT_B3').join(dados4,lsuffix='_AT_B3', rsuffix='_AT_B4')\n",
    "df_at"
   ]
  },
  {
   "cell_type": "code",
   "execution_count": null,
   "metadata": {},
   "outputs": [],
   "source": [
    "dados1 = df1[df1.avaliacao.apply(lambda x: x.startswith('AI'))].groupby('disciplina').sum()\n",
    "dados2 = df2[df2.avaliacao.apply(lambda x: x.startswith('AI'))].groupby('disciplina').sum()\n",
    "dados3 = df3[df3.avaliacao.apply(lambda x: x.startswith('AI'))].groupby('disciplina').sum()\n",
    "dados4 = df4[df4.avaliacao.apply(lambda x: x.startswith('AI'))].groupby('disciplina').sum()\n",
    "\n",
    "df_ai = dados1.join(dados2,lsuffix='_AI_B1_peso_2', rsuffix='_AI_B2_peso_3').join(dados3,lsuffix='_AI_B2_peso_3', rsuffix='_AI_B3').join(dados4,lsuffix='_AI_B3_peso_2', rsuffix='_AI_B4_peso_3')\n",
    "df_ai"
   ]
  },
  {
   "cell_type": "code",
   "execution_count": null,
   "metadata": {},
   "outputs": [],
   "source": [
    "dados1 = df1[df1.avaliacao.apply(lambda x: x.startswith('AI'))].groupby('disciplina').sum()\n",
    "dados2 = df2[df2.avaliacao.apply(lambda x: x.startswith('AI'))].groupby('disciplina').sum()\n",
    "dados3 = df3[df3.avaliacao.apply(lambda x: x.startswith('AI'))].groupby('disciplina').sum()\n",
    "dados4 = df4[df4.avaliacao.apply(lambda x: x.startswith('AI'))].groupby('disciplina').sum()\n",
    "\n",
    "df_ai = dados1.join(dados2,lsuffix='_AI_B1_peso_2', rsuffix='_AI_B2_peso_3').join(dados3,lsuffix='_AI_B2_peso_3', rsuffix='_AI_B3').join(dados4,lsuffix='_AI_B3_peso_2', rsuffix='_AI_B4_peso_3')\n",
    "df_ai"
   ]
  },
  {
   "cell_type": "code",
   "execution_count": null,
   "metadata": {},
   "outputs": [],
   "source": [
    "firefox.quit()"
   ]
  }
 ],
 "metadata": {
  "kernelspec": {
   "display_name": "Python 3",
   "language": "python",
   "name": "python3"
  },
  "language_info": {
   "codemirror_mode": {
    "name": "ipython",
    "version": 3
   },
   "file_extension": ".py",
   "mimetype": "text/x-python",
   "name": "python",
   "nbconvert_exporter": "python",
   "pygments_lexer": "ipython3",
   "version": "3.7.3"
  }
 },
 "nbformat": 4,
 "nbformat_minor": 2
}
